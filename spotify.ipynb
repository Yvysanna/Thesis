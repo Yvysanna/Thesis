{
 "cells": [
  {
   "cell_type": "code",
   "execution_count": 104,
   "metadata": {},
   "outputs": [],
   "source": [
    "import pandas as pd\n",
    "from collections import Counter\n",
    "import re"
   ]
  },
  {
   "cell_type": "code",
   "execution_count": 105,
   "metadata": {},
   "outputs": [],
   "source": [
    "full_male = pd.read_excel('male_complete.xlsx')"
   ]
  },
  {
   "cell_type": "code",
   "execution_count": 106,
   "metadata": {},
   "outputs": [],
   "source": [
    "full_female = pd.read_excel('female_complete.xlsx')"
   ]
  },
  {
   "cell_type": "code",
   "execution_count": 107,
   "metadata": {},
   "outputs": [],
   "source": [
    "male = full_male[['day', 'time', 'hub name','playlist name', 'type']]"
   ]
  },
  {
   "cell_type": "code",
   "execution_count": 108,
   "metadata": {},
   "outputs": [],
   "source": [
    "female = full_female[['day', 'time', 'hub name','playlist name', 'type']]"
   ]
  },
  {
   "cell_type": "code",
   "execution_count": 109,
   "metadata": {},
   "outputs": [
    {
     "name": "stdout",
     "output_type": "stream",
     "text": [
      "4265 4859\n"
     ]
    }
   ],
   "source": [
    "print(len(male), len(female))"
   ]
  },
  {
   "cell_type": "code",
   "execution_count": 110,
   "metadata": {},
   "outputs": [],
   "source": [
    "def clean(string):\n",
    "    '''Cleans texts for semantic comparison'''\n",
    "    string = str(string).lower().strip()\n",
    "\n",
    "    # Remove any characters that are not alpha numerical or white spaces or equal sign (because of Ed Sheeran album)\n",
    "    string = re.sub(r'[^a-z\\s\\=A-Z0-9]', '', string)\n",
    "    return string"
   ]
  },
  {
   "cell_type": "code",
   "execution_count": 111,
   "metadata": {},
   "outputs": [],
   "source": [
    "# Clean all data by removing trailing whitespaces and lowercasing all letters\n",
    "female = female.copy()\n",
    "female['hub name'] = female['hub name'].apply(clean)\n",
    "female.loc['playlist name'] = female['playlist name'].apply(clean)\n",
    "\n",
    "male = male.copy()\n",
    "male['hub name'] = male['hub name'].apply(clean)\n",
    "male.loc['playlist name'] = male['playlist name'].apply(clean)"
   ]
  },
  {
   "cell_type": "code",
   "execution_count": 112,
   "metadata": {},
   "outputs": [],
   "source": [
    "male.replace(to_replace = 'Kris Kross Amsterdam', value = 'Kriss Kross Amsterdam', inplace = True)\n",
    "female.replace(to_replace = 'Kris Kross Amsterdam', value = 'Kriss Kross Amsterdam', inplace = True)"
   ]
  },
  {
   "cell_type": "code",
   "execution_count": 114,
   "metadata": {},
   "outputs": [
    {
     "name": "stdout",
     "output_type": "stream",
     "text": [
      "              day time hub name playlist name type\n",
      "playlist name NaT  NaN      NaN           NaN  NaN               day time hub name playlist name type\n",
      "playlist name NaT  NaN      NaN           NaN  NaN\n"
     ]
    }
   ],
   "source": [
    "# Remove last row which is added as NAN row with playlist name as index\n",
    "print(male.tail(1), female.tail(1))\n",
    "male.drop(male.tail(1).index,inplace=True)\n",
    "female.drop(female.tail(1).index,inplace=True)"
   ]
  },
  {
   "cell_type": "code",
   "execution_count": 115,
   "metadata": {},
   "outputs": [
    {
     "name": "stdout",
     "output_type": "stream",
     "text": [
      "            day      time                       hub name  \\\n",
      "4264 2022-04-20  22:00:00  discover more from pink floyd   \n",
      "\n",
      "                  playlist name   type  \n",
      "4264  The Dark Side of the Moon  album               day      time hub name playlist name      type\n",
      "4858 2022-04-20  22:00:00     mood   lofi beats   playlist\n"
     ]
    }
   ],
   "source": [
    "print(male.tail(1), female.tail(1))"
   ]
  },
  {
   "cell_type": "code",
   "execution_count": 116,
   "metadata": {},
   "outputs": [],
   "source": [
    "similar_hubs = male[male['hub name'].isin(female['hub name'])]"
   ]
  },
  {
   "cell_type": "code",
   "execution_count": 101,
   "metadata": {},
   "outputs": [
    {
     "data": {
      "text/plain": [
       "[('throwback', 275),\n",
       " ('fresh new music', 167),\n",
       " ('recommended radio', 125),\n",
       " ('more like harry styles', 111),\n",
       " ('recommended for you today', 101),\n",
       " ('chill', 98),\n",
       " ('workout', 95),\n",
       " ('more like charlie puth', 83),\n",
       " ('suggested artists', 76),\n",
       " ('mood', 68),\n",
       " ('singalong', 65),\n",
       " ('more like jack harlow', 44),\n",
       " ('party', 27),\n",
       " ('more like imagine dragons', 25),\n",
       " ('featured charts', 11),\n",
       " ('recommended for today', 10),\n",
       " ('try something else', 9),\n",
       " ('todays biggest hits', 9),\n",
       " ('instrumental', 8),\n",
       " ('to get you started', 3)]"
      ]
     },
     "execution_count": 101,
     "metadata": {},
     "output_type": "execute_result"
    }
   ],
   "source": [
    "# The hubs, male and female user share\n",
    "Counter(similar_hubs['hub name']).most_common()"
   ]
  },
  {
   "cell_type": "code",
   "execution_count": 117,
   "metadata": {},
   "outputs": [
    {
     "data": {
      "text/plain": [
       "[('blijf op de hoogte', 266),\n",
       " ('your top mixes', 260),\n",
       " ('discover something new', 252),\n",
       " ('made for male name', 179),\n",
       " ('global cultures on the main stage', 171),\n",
       " ('dream playlist rotation', 132),\n",
       " ('dutch language pop', 131),\n",
       " ('hip hop', 117),\n",
       " ('sad songs', 110),\n",
       " ('pop', 97),\n",
       " ('popular new releases', 90),\n",
       " ('based on your recent listening', 89),\n",
       " ('popular albums', 89),\n",
       " ('rock', 87),\n",
       " ('happy', 86),\n",
       " ('discover more from pink floyd', 79),\n",
       " ('trending now', 77),\n",
       " ('for fans of taylor swift', 73),\n",
       " ('more of what you like', 56),\n",
       " ('new and rising artists', 48),\n",
       " ('best of artists', 33),\n",
       " ('more like queen', 30),\n",
       " ('more like lauren spencersmith', 30),\n",
       " ('popular artists', 28),\n",
       " ('for fans of bad bunny', 24)]"
      ]
     },
     "execution_count": 117,
     "metadata": {},
     "output_type": "execute_result"
    }
   ],
   "source": [
    "male_unique = male[~male['hub name'].isin(female['hub name'])]\n",
    "Counter(male_unique['hub name']).most_common(25)"
   ]
  },
  {
   "cell_type": "code",
   "execution_count": 118,
   "metadata": {},
   "outputs": [
    {
     "data": {
      "text/plain": [
       "[('more like pop rising', 145),\n",
       " ('more like todays top hits', 136),\n",
       " ('more like camila cabello', 86),\n",
       " ('more like ed sheeran', 81),\n",
       " ('more like jax jones', 60),\n",
       " ('more like latto', 60),\n",
       " ('dinner', 49),\n",
       " ('made for female name', 47),\n",
       " ('more like kris kross amsterdam', 40),\n",
       " ('more like antoon', 40),\n",
       " ('more like coldplay', 40),\n",
       " ('more like hot hits nl', 30),\n",
       " ('artists you like', 24)]"
      ]
     },
     "execution_count": 118,
     "metadata": {},
     "output_type": "execute_result"
    }
   ],
   "source": [
    "# \n",
    "female_unique = female[~female['hub name'].isin(male['hub name'])]\n",
    "Counter(female_unique['hub name']).most_common(25)"
   ]
  },
  {
   "cell_type": "code",
   "execution_count": null,
   "metadata": {},
   "outputs": [],
   "source": [
    "pd.DataFrame(Counter(female['hub name']).most_common(25), Counter(male['hub name']).most_common(25))\n"
   ]
  },
  {
   "cell_type": "code",
   "execution_count": 121,
   "metadata": {},
   "outputs": [
    {
     "name": "stdout",
     "output_type": "stream",
     "text": [
      "46 13\n"
     ]
    }
   ],
   "source": [
    "# How many unique hubs both users have\n",
    "print(len(set(male_unique['hub name'])), len(set(female_unique['hub name'])))"
   ]
  },
  {
   "cell_type": "code",
   "execution_count": 138,
   "metadata": {},
   "outputs": [],
   "source": [
    "# Most common playlists both users received\n",
    "most_common_playlists = {'male': dict(Counter(male['playlist name']).most_common()), 'female': dict(Counter(female['playlist name']).most_common())}\n",
    "# Counter(male['playlist name']).most_common(25)\n",
    "# Counter(female['playlist name']).most_common(25)\n"
   ]
  },
  {
   "cell_type": "code",
   "execution_count": 139,
   "metadata": {},
   "outputs": [],
   "source": [
    "new = pd.DataFrame(most_common_playlists)"
   ]
  },
  {
   "cell_type": "code",
   "execution_count": 143,
   "metadata": {},
   "outputs": [
    {
     "data": {
      "text/html": [
       "<div>\n",
       "<style scoped>\n",
       "    .dataframe tbody tr th:only-of-type {\n",
       "        vertical-align: middle;\n",
       "    }\n",
       "\n",
       "    .dataframe tbody tr th {\n",
       "        vertical-align: top;\n",
       "    }\n",
       "\n",
       "    .dataframe thead th {\n",
       "        text-align: right;\n",
       "    }\n",
       "</style>\n",
       "<table border=\"1\" class=\"dataframe\">\n",
       "  <thead>\n",
       "    <tr style=\"text-align: right;\">\n",
       "      <th></th>\n",
       "      <th>male</th>\n",
       "      <th>female</th>\n",
       "    </tr>\n",
       "  </thead>\n",
       "  <tbody>\n",
       "    <tr>\n",
       "      <th>Songs to Sing in the Shower</th>\n",
       "      <td>31.0</td>\n",
       "      <td>72.0</td>\n",
       "    </tr>\n",
       "    <tr>\n",
       "      <th>lofi beats</th>\n",
       "      <td>6.0</td>\n",
       "      <td>64.0</td>\n",
       "    </tr>\n",
       "    <tr>\n",
       "      <th>Top Songs Global</th>\n",
       "      <td>2.0</td>\n",
       "      <td>58.0</td>\n",
       "    </tr>\n",
       "    <tr>\n",
       "      <th>Fresh Pop</th>\n",
       "      <td>49.0</td>\n",
       "      <td>57.0</td>\n",
       "    </tr>\n",
       "    <tr>\n",
       "      <th>Top 50 Global</th>\n",
       "      <td>2.0</td>\n",
       "      <td>57.0</td>\n",
       "    </tr>\n",
       "    <tr>\n",
       "      <th>Instrumental Study</th>\n",
       "      <td>1.0</td>\n",
       "      <td>54.0</td>\n",
       "    </tr>\n",
       "    <tr>\n",
       "      <th>Summer '22</th>\n",
       "      <td>25.0</td>\n",
       "      <td>48.0</td>\n",
       "    </tr>\n",
       "    <tr>\n",
       "      <th>t Koffiehuis</th>\n",
       "      <td>50.0</td>\n",
       "      <td>44.0</td>\n",
       "    </tr>\n",
       "    <tr>\n",
       "      <th>Stay Tuned!</th>\n",
       "      <td>47.0</td>\n",
       "      <td>43.0</td>\n",
       "    </tr>\n",
       "    <tr>\n",
       "      <th>Today's Top Hits</th>\n",
       "      <td>5.0</td>\n",
       "      <td>43.0</td>\n",
       "    </tr>\n",
       "    <tr>\n",
       "      <th>Life Sucks</th>\n",
       "      <td>12.0</td>\n",
       "      <td>42.0</td>\n",
       "    </tr>\n",
       "    <tr>\n",
       "      <th>Rock Classics</th>\n",
       "      <td>38.0</td>\n",
       "      <td>41.0</td>\n",
       "    </tr>\n",
       "    <tr>\n",
       "      <th>Top 50 Netherlands</th>\n",
       "      <td>2.0</td>\n",
       "      <td>40.0</td>\n",
       "    </tr>\n",
       "    <tr>\n",
       "      <th>Peaceful Piano</th>\n",
       "      <td>5.0</td>\n",
       "      <td>39.0</td>\n",
       "    </tr>\n",
       "    <tr>\n",
       "      <th>Easy 80s</th>\n",
       "      <td>22.0</td>\n",
       "      <td>37.0</td>\n",
       "    </tr>\n",
       "    <tr>\n",
       "      <th>Hit Rewind</th>\n",
       "      <td>32.0</td>\n",
       "      <td>36.0</td>\n",
       "    </tr>\n",
       "    <tr>\n",
       "      <th>Vibes</th>\n",
       "      <td>6.0</td>\n",
       "      <td>36.0</td>\n",
       "    </tr>\n",
       "    <tr>\n",
       "      <th>Chill Hits</th>\n",
       "      <td>37.0</td>\n",
       "      <td>36.0</td>\n",
       "    </tr>\n",
       "    <tr>\n",
       "      <th>All Out 2010s</th>\n",
       "      <td>42.0</td>\n",
       "      <td>35.0</td>\n",
       "    </tr>\n",
       "    <tr>\n",
       "      <th>Throwback Party</th>\n",
       "      <td>28.0</td>\n",
       "      <td>35.0</td>\n",
       "    </tr>\n",
       "    <tr>\n",
       "      <th>Pop Sauce</th>\n",
       "      <td>3.0</td>\n",
       "      <td>34.0</td>\n",
       "    </tr>\n",
       "    <tr>\n",
       "      <th>New Music Friday</th>\n",
       "      <td>27.0</td>\n",
       "      <td>34.0</td>\n",
       "    </tr>\n",
       "    <tr>\n",
       "      <th>Viral 50 Global</th>\n",
       "      <td>1.0</td>\n",
       "      <td>32.0</td>\n",
       "    </tr>\n",
       "    <tr>\n",
       "      <th>Karaoke Duets</th>\n",
       "      <td>1.0</td>\n",
       "      <td>32.0</td>\n",
       "    </tr>\n",
       "    <tr>\n",
       "      <th>Viral 50 Netherlands</th>\n",
       "      <td>1.0</td>\n",
       "      <td>32.0</td>\n",
       "    </tr>\n",
       "    <tr>\n",
       "      <th>Top Songs Nederland</th>\n",
       "      <td>NaN</td>\n",
       "      <td>31.0</td>\n",
       "    </tr>\n",
       "    <tr>\n",
       "      <th>Cardio</th>\n",
       "      <td>NaN</td>\n",
       "      <td>31.0</td>\n",
       "    </tr>\n",
       "    <tr>\n",
       "      <th>Fun Run</th>\n",
       "      <td>10.0</td>\n",
       "      <td>31.0</td>\n",
       "    </tr>\n",
       "    <tr>\n",
       "      <th>Broken Heart</th>\n",
       "      <td>12.0</td>\n",
       "      <td>31.0</td>\n",
       "    </tr>\n",
       "    <tr>\n",
       "      <th>Top Songs Netherlands</th>\n",
       "      <td>1.0</td>\n",
       "      <td>31.0</td>\n",
       "    </tr>\n",
       "    <tr>\n",
       "      <th>Je Moerstaal</th>\n",
       "      <td>79.0</td>\n",
       "      <td>31.0</td>\n",
       "    </tr>\n",
       "    <tr>\n",
       "      <th>K-Club Party</th>\n",
       "      <td>11.0</td>\n",
       "      <td>31.0</td>\n",
       "    </tr>\n",
       "    <tr>\n",
       "      <th>Top Hits Workout</th>\n",
       "      <td>24.0</td>\n",
       "      <td>31.0</td>\n",
       "    </tr>\n",
       "    <tr>\n",
       "      <th>Afro Hits</th>\n",
       "      <td>34.0</td>\n",
       "      <td>31.0</td>\n",
       "    </tr>\n",
       "    <tr>\n",
       "      <th>Happy Tunes</th>\n",
       "      <td>33.0</td>\n",
       "      <td>31.0</td>\n",
       "    </tr>\n",
       "    <tr>\n",
       "      <th>All Out 90s</th>\n",
       "      <td>31.0</td>\n",
       "      <td>31.0</td>\n",
       "    </tr>\n",
       "    <tr>\n",
       "      <th>Techno Bunker</th>\n",
       "      <td>NaN</td>\n",
       "      <td>30.0</td>\n",
       "    </tr>\n",
       "    <tr>\n",
       "      <th>The '80s All Lined Up</th>\n",
       "      <td>11.0</td>\n",
       "      <td>30.0</td>\n",
       "    </tr>\n",
       "    <tr>\n",
       "      <th>Classical New Releases</th>\n",
       "      <td>17.0</td>\n",
       "      <td>30.0</td>\n",
       "    </tr>\n",
       "    <tr>\n",
       "      <th>just hits</th>\n",
       "      <td>20.0</td>\n",
       "      <td>30.0</td>\n",
       "    </tr>\n",
       "    <tr>\n",
       "      <th>All Out 80s</th>\n",
       "      <td>31.0</td>\n",
       "      <td>30.0</td>\n",
       "    </tr>\n",
       "    <tr>\n",
       "      <th>Guilty Pleasures</th>\n",
       "      <td>11.0</td>\n",
       "      <td>29.0</td>\n",
       "    </tr>\n",
       "    <tr>\n",
       "      <th>Beste van NL</th>\n",
       "      <td>NaN</td>\n",
       "      <td>29.0</td>\n",
       "    </tr>\n",
       "    <tr>\n",
       "      <th>Sing-along: 90's to Now</th>\n",
       "      <td>NaN</td>\n",
       "      <td>29.0</td>\n",
       "    </tr>\n",
       "    <tr>\n",
       "      <th>Déjà Vu</th>\n",
       "      <td>11.0</td>\n",
       "      <td>29.0</td>\n",
       "    </tr>\n",
       "    <tr>\n",
       "      <th>Top 2000</th>\n",
       "      <td>6.0</td>\n",
       "      <td>29.0</td>\n",
       "    </tr>\n",
       "    <tr>\n",
       "      <th>Hot New Dance</th>\n",
       "      <td>21.0</td>\n",
       "      <td>29.0</td>\n",
       "    </tr>\n",
       "    <tr>\n",
       "      <th>Most Necessary</th>\n",
       "      <td>15.0</td>\n",
       "      <td>28.0</td>\n",
       "    </tr>\n",
       "    <tr>\n",
       "      <th>New Music Friday NL</th>\n",
       "      <td>5.0</td>\n",
       "      <td>27.0</td>\n",
       "    </tr>\n",
       "    <tr>\n",
       "      <th>Baila Reggaeton</th>\n",
       "      <td>23.0</td>\n",
       "      <td>27.0</td>\n",
       "    </tr>\n",
       "  </tbody>\n",
       "</table>\n",
       "</div>"
      ],
      "text/plain": [
       "                             male  female\n",
       "Songs to Sing in the Shower  31.0    72.0\n",
       "lofi beats                    6.0    64.0\n",
       "Top Songs Global              2.0    58.0\n",
       "Fresh Pop                    49.0    57.0\n",
       "Top 50 Global                 2.0    57.0\n",
       "Instrumental Study            1.0    54.0\n",
       "Summer '22                   25.0    48.0\n",
       "t Koffiehuis                 50.0    44.0\n",
       "Stay Tuned!                  47.0    43.0\n",
       "Today's Top Hits              5.0    43.0\n",
       "Life Sucks                   12.0    42.0\n",
       "Rock Classics                38.0    41.0\n",
       "Top 50 Netherlands            2.0    40.0\n",
       "Peaceful Piano                5.0    39.0\n",
       "Easy 80s                     22.0    37.0\n",
       "Hit Rewind                   32.0    36.0\n",
       "Vibes                         6.0    36.0\n",
       "Chill Hits                   37.0    36.0\n",
       "All Out 2010s                42.0    35.0\n",
       "Throwback Party              28.0    35.0\n",
       "Pop Sauce                     3.0    34.0\n",
       "New Music Friday             27.0    34.0\n",
       "Viral 50 Global               1.0    32.0\n",
       "Karaoke Duets                 1.0    32.0\n",
       "Viral 50 Netherlands          1.0    32.0\n",
       "Top Songs Nederland           NaN    31.0\n",
       "Cardio                        NaN    31.0\n",
       "Fun Run                      10.0    31.0\n",
       "Broken Heart                 12.0    31.0\n",
       "Top Songs Netherlands         1.0    31.0\n",
       "Je Moerstaal                 79.0    31.0\n",
       "K-Club Party                 11.0    31.0\n",
       "Top Hits Workout             24.0    31.0\n",
       "Afro Hits                    34.0    31.0\n",
       "Happy Tunes                  33.0    31.0\n",
       "All Out 90s                  31.0    31.0\n",
       "Techno Bunker                 NaN    30.0\n",
       "The '80s All Lined Up        11.0    30.0\n",
       "Classical New Releases       17.0    30.0\n",
       "just hits                    20.0    30.0\n",
       "All Out 80s                  31.0    30.0\n",
       "Guilty Pleasures             11.0    29.0\n",
       "Beste van NL                  NaN    29.0\n",
       "Sing-along: 90's to Now       NaN    29.0\n",
       "Déjà Vu                      11.0    29.0\n",
       "Top 2000                      6.0    29.0\n",
       "Hot New Dance                21.0    29.0\n",
       "Most Necessary               15.0    28.0\n",
       "New Music Friday NL           5.0    27.0\n",
       "Baila Reggaeton              23.0    27.0"
      ]
     },
     "execution_count": 143,
     "metadata": {},
     "output_type": "execute_result"
    }
   ],
   "source": [
    "# new.head(50)\n",
    "new.sort_values(by = 'female', ascending = False).head(50)"
   ]
  },
  {
   "cell_type": "code",
   "execution_count": 135,
   "metadata": {},
   "outputs": [
    {
     "data": {
      "text/plain": [
       "601"
      ]
     },
     "execution_count": 135,
     "metadata": {},
     "output_type": "execute_result"
    }
   ],
   "source": [
    "len(set(male['playlist name']))"
   ]
  },
  {
   "cell_type": "code",
   "execution_count": 136,
   "metadata": {},
   "outputs": [
    {
     "data": {
      "text/plain": [
       "500"
      ]
     },
     "execution_count": 136,
     "metadata": {},
     "output_type": "execute_result"
    }
   ],
   "source": [
    "len(set(female['playlist name']))"
   ]
  },
  {
   "cell_type": "code",
   "execution_count": 137,
   "metadata": {},
   "outputs": [
    {
     "data": {
      "text/html": [
       "<div>\n",
       "<style scoped>\n",
       "    .dataframe tbody tr th:only-of-type {\n",
       "        vertical-align: middle;\n",
       "    }\n",
       "\n",
       "    .dataframe tbody tr th {\n",
       "        vertical-align: top;\n",
       "    }\n",
       "\n",
       "    .dataframe thead th {\n",
       "        text-align: right;\n",
       "    }\n",
       "</style>\n",
       "<table border=\"1\" class=\"dataframe\">\n",
       "  <thead>\n",
       "    <tr style=\"text-align: right;\">\n",
       "      <th></th>\n",
       "      <th>day</th>\n",
       "      <th>time</th>\n",
       "      <th>hub name</th>\n",
       "      <th>playlist name</th>\n",
       "      <th>type</th>\n",
       "    </tr>\n",
       "  </thead>\n",
       "  <tbody>\n",
       "    <tr>\n",
       "      <th>1</th>\n",
       "      <td>2022-04-14</td>\n",
       "      <td>10:00:00</td>\n",
       "      <td>featured charts</td>\n",
       "      <td>Top Songs Nederland</td>\n",
       "      <td>playlist</td>\n",
       "    </tr>\n",
       "    <tr>\n",
       "      <th>10</th>\n",
       "      <td>2022-04-14</td>\n",
       "      <td>10:00:00</td>\n",
       "      <td>throwback</td>\n",
       "      <td>Salsa Classics</td>\n",
       "      <td>playlist</td>\n",
       "    </tr>\n",
       "    <tr>\n",
       "      <th>13</th>\n",
       "      <td>2022-04-14</td>\n",
       "      <td>10:00:00</td>\n",
       "      <td>throwback</td>\n",
       "      <td>10s Latino</td>\n",
       "      <td>playlist</td>\n",
       "    </tr>\n",
       "    <tr>\n",
       "      <th>14</th>\n",
       "      <td>2022-04-14</td>\n",
       "      <td>10:00:00</td>\n",
       "      <td>throwback</td>\n",
       "      <td>Leyendas Urbanas</td>\n",
       "      <td>playlist</td>\n",
       "    </tr>\n",
       "    <tr>\n",
       "      <th>22</th>\n",
       "      <td>2022-04-14</td>\n",
       "      <td>10:00:00</td>\n",
       "      <td>chill</td>\n",
       "      <td>Deep House Rules</td>\n",
       "      <td>playlist</td>\n",
       "    </tr>\n",
       "    <tr>\n",
       "      <th>...</th>\n",
       "      <td>...</td>\n",
       "      <td>...</td>\n",
       "      <td>...</td>\n",
       "      <td>...</td>\n",
       "      <td>...</td>\n",
       "    </tr>\n",
       "    <tr>\n",
       "      <th>4842</th>\n",
       "      <td>2022-04-20</td>\n",
       "      <td>22:00:00</td>\n",
       "      <td>more like coldplay</td>\n",
       "      <td>Spotify Session - London</td>\n",
       "      <td>EP</td>\n",
       "    </tr>\n",
       "    <tr>\n",
       "      <th>4843</th>\n",
       "      <td>2022-04-20</td>\n",
       "      <td>22:00:00</td>\n",
       "      <td>more like coldplay</td>\n",
       "      <td>Fast Car</td>\n",
       "      <td>single</td>\n",
       "    </tr>\n",
       "    <tr>\n",
       "      <th>4850</th>\n",
       "      <td>2022-04-20</td>\n",
       "      <td>22:00:00</td>\n",
       "      <td>singalong</td>\n",
       "      <td>Sing-along: 90's to Now</td>\n",
       "      <td>playlist</td>\n",
       "    </tr>\n",
       "    <tr>\n",
       "      <th>4852</th>\n",
       "      <td>2022-04-20</td>\n",
       "      <td>22:00:00</td>\n",
       "      <td>singalong</td>\n",
       "      <td>Sing along Indie Hits</td>\n",
       "      <td>playlist</td>\n",
       "    </tr>\n",
       "    <tr>\n",
       "      <th>4853</th>\n",
       "      <td>2022-04-20</td>\n",
       "      <td>22:00:00</td>\n",
       "      <td>singalong</td>\n",
       "      <td>Classic Pop Picks</td>\n",
       "      <td>playlist</td>\n",
       "    </tr>\n",
       "  </tbody>\n",
       "</table>\n",
       "<p>1914 rows × 5 columns</p>\n",
       "</div>"
      ],
      "text/plain": [
       "            day      time            hub name             playlist name  \\\n",
       "1    2022-04-14  10:00:00     featured charts       Top Songs Nederland   \n",
       "10   2022-04-14  10:00:00           throwback            Salsa Classics   \n",
       "13   2022-04-14  10:00:00           throwback                10s Latino   \n",
       "14   2022-04-14  10:00:00           throwback          Leyendas Urbanas   \n",
       "22   2022-04-14  10:00:00               chill          Deep House Rules   \n",
       "...         ...       ...                 ...                       ...   \n",
       "4842 2022-04-20  22:00:00  more like coldplay  Spotify Session - London   \n",
       "4843 2022-04-20  22:00:00  more like coldplay                  Fast Car   \n",
       "4850 2022-04-20  22:00:00           singalong   Sing-along: 90's to Now   \n",
       "4852 2022-04-20  22:00:00           singalong     Sing along Indie Hits   \n",
       "4853 2022-04-20  22:00:00           singalong         Classic Pop Picks   \n",
       "\n",
       "          type  \n",
       "1     playlist  \n",
       "10    playlist  \n",
       "13    playlist  \n",
       "14    playlist  \n",
       "22    playlist  \n",
       "...        ...  \n",
       "4842        EP  \n",
       "4843    single  \n",
       "4850  playlist  \n",
       "4852  playlist  \n",
       "4853  playlist  \n",
       "\n",
       "[1914 rows x 5 columns]"
      ]
     },
     "execution_count": 137,
     "metadata": {},
     "output_type": "execute_result"
    }
   ],
   "source": [
    "female[~female['playlist name'].isin(male['playlist name'])]"
   ]
  },
  {
   "cell_type": "code",
   "execution_count": null,
   "metadata": {},
   "outputs": [],
   "source": []
  }
 ],
 "metadata": {
  "interpreter": {
   "hash": "31f2aee4e71d21fbe5cf8b01ff0e069b9275f58929596ceb00d14d90e3e16cd6"
  },
  "kernelspec": {
   "display_name": "Python 3.8.10 64-bit",
   "language": "python",
   "name": "python3"
  },
  "language_info": {
   "codemirror_mode": {
    "name": "ipython",
    "version": 3
   },
   "file_extension": ".py",
   "mimetype": "text/x-python",
   "name": "python",
   "nbconvert_exporter": "python",
   "pygments_lexer": "ipython3",
   "version": "3.8.10"
  },
  "orig_nbformat": 4
 },
 "nbformat": 4,
 "nbformat_minor": 2
}
